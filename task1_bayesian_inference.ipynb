{
  "nbformat": 4,
  "nbformat_minor": 0,
  "metadata": {
    "colab": {
      "provenance": []
    },
    "kernelspec": {
      "name": "python3",
      "display_name": "Python 3"
    },
    "language_info": {
      "name": "python"
    }
  },
  "cells": [
    {
      "cell_type": "markdown",
      "source": [
        "# STDSR-2023-Assignment 2\n",
        "\n",
        "*Violetta Sim, B19-DS-01*\n",
        "\n"
      ],
      "metadata": {
        "id": "g6qQLz0lzyaF"
      }
    },
    {
      "cell_type": "markdown",
      "source": [
        "## Task 1\n",
        "\n",
        "In a research program on human health risk from recreational contact with water contaminated with pathogenic microbiological material, the National Institute of Water and Atmosphere (NIWA) instituted a study to determine the quality of NZ stream water at a variety of catchment types. This study is documented in McBride et al. (2002) where n = 116 one-liter water samples from sites identified as having a heavy environmental impact from birds (seagulls) and waterfowl. Out of these samples, x = 17 samples contained Giardia cysts. Let θ denote the true probability that a one-liter water sample from this type of site contains Giardia cysts.\n",
        "\n",
        "\n",
        "1. What is the conditional distribution of X, the number of samples containing Giardia cysts, given θ?\n",
        "2. Before the experiment, the NIWA scientists elicited that the expected value of θ is 0.2 with a standard deviation of 0.16. Determine the param- eters α and β of a Beta prior distribution for θ with this prior mean and standard deviation. (Round α and β to the nearest integer).\n",
        "3. Find the posterior distribution of θ and summarize it by its posterior mean and standard deviation.\n",
        "4. Plot the prior, posterior and normalized likelihood.\n",
        "5. Find the posterior probability that θ < 0.1.\n",
        "6. Find a central 95% posterior credible interval for θ."
      ],
      "metadata": {
        "id": "4F1eue2gzt3a"
      }
    },
    {
      "cell_type": "markdown",
      "source": [
        "#### 1. What is the conditional distribution of X, the number of samples containing Giardia cysts, given θ?\n",
        "\n",
        "The conditional distribution of $X$ is the binomial distribution with $n=116$ trials and the probability of \"success\" (that a sample contains Giardia cysts) $\\theta$. It is defined by the PDF:\n",
        "\n",
        "$$\n",
        "f_{X \\mid \\Theta}(x\\mid\\theta) = {n \\choose x} \\cdot \\theta^x (1-\\theta)^{n-x}\n",
        "$$"
      ],
      "metadata": {
        "id": "Wa1WfZ5JhXrO"
      }
    },
    {
      "cell_type": "markdown",
      "source": [
        "#### 2. Before the experiment, the NIWA scientists elicited that the expected value of θ is 0.2 with a standard deviation of 0.16. Determine the parameters α and β of a Beta prior distribution for θ with this prior mean and standard deviation. (Round α and β to the nearest integer).\n",
        "\n",
        "Mean and variance of the Beta distribution are the given by \n",
        "\n",
        "$$\n",
        "\\begin{cases}\n",
        "E[\\Theta] = \\frac{\\alpha}{\\alpha + \\beta}\\\\\n",
        "Var[\\Theta] = \\frac{\\alpha\\beta}{(\\alpha + \\beta)^2  (\\alpha+\\beta+1)}\n",
        "\\end{cases}\n",
        "$$\n",
        "\n",
        "Substituting $0.2$ and $0.16^2$ for $E[\\Theta]$ and $Var[\\Theta]$ respectively, and solving for $\\alpha$ and $\\beta$, we obtain\n",
        "\n",
        "$$\n",
        "\\begin{cases}\n",
        "\\alpha = 1.05\\\\\n",
        "\\beta = 4.2\n",
        "\\end{cases}\n",
        "$$\n",
        "\n",
        "Finally, round we round $\\alpha$ and $\\beta$ to the nearest integers, and set parameters of the prior distribution: $\\alpha=1, \\beta=4$. Then, the prior distribution is given by\n",
        "\n",
        "$$\n",
        "f_\\Theta(\\theta) = \\frac{\\theta\\cdot(1-\\theta)^{3}}{B(1, 4)}\n",
        "$$"
      ],
      "metadata": {
        "id": "CYljtnj-jxRX"
      }
    },
    {
      "cell_type": "markdown",
      "source": [
        "#### 3. Find the posterior distribution of θ and summarize it by its posterior mean and standard deviation.\n",
        "\n",
        "The posterior is given by the following formula:\n",
        "\n",
        "\\begin{align}\n",
        "f_{\\Theta\\mid X}(\\theta \\mid x) \n",
        "&=\\frac{f_{X|\\Theta}(x \\mid \\theta) \\cdot f_\\Theta(\\theta)}{\\int f_{X|\\Theta}(x \\mid \\theta) \\cdot f_\\Theta(\\theta) \\cdot d\\theta} \\\\\n",
        "&= \\frac{{n \\choose x} \\cdot \\theta^x (1-\\theta)^{n-x} \\cdot \\frac{\\theta^{\\alpha-1}\\cdot(1-\\theta)^{\\beta-1}}{B(\\alpha, \\beta)}}{\\int_0^1 {n \\choose x} \\cdot \\theta^x (1-\\theta)^{n-x} \\cdot \\frac{\\theta^{\\alpha-1}\\cdot(1-\\theta)^{\\beta-1}}{B(\\alpha, \\beta)} d\\theta} \\\\\n",
        "&= \\frac{ {n \\choose x} \\theta^x (1-\\theta)^{n-x} \\cdot \\frac{\\theta^{\\alpha-1}\\cdot(1-\\theta)^{\\beta-1}}{B(\\alpha, \\beta)}}{{n \\choose x} \\frac{B(\\alpha + x, \\beta +x -n)}{B(\\alpha, \\beta)}}\\\\\n",
        "&= \\frac{ \\theta^{\\alpha-1 + x} (1-\\theta)^{\\beta-1 +n-x} }{B(\\alpha + x, \\beta +x -n)}\n",
        "\\end{align}\n",
        "\n",
        "The posterior distribution appears to be beta distribution with new parameters $\\alpha + x$ and $\\beta +n -x$.\n",
        "\n",
        "The mean and standard deviation are then:\n",
        "\n",
        "$$\n",
        "\\begin{cases}\n",
        "E[\\Theta] = \\frac{\\alpha + x }{\\alpha + \\beta + n} = \\frac{1 + 17}{1 + 4 + 116} = 0.15\\\\\n",
        "\\sqrt{Var[\\Theta]} = \\sqrt{\\frac{(\\alpha + x)\\cdot (\\beta +n -x)}{(\\alpha + \\beta + n)^2  (\\alpha+\\beta + n +1)}} = \\sqrt{\\frac{18 \\cdot 115}{121^2 \\cdot 122}} \\approx 0.034\n",
        "\\end{cases}\n",
        "$$"
      ],
      "metadata": {
        "id": "Fj4rqkMgohe8"
      }
    },
    {
      "cell_type": "markdown",
      "source": [
        "#### 4. Plot the prior, posterior and normalized likelihood."
      ],
      "metadata": {
        "id": "DfGH0LYrEBFs"
      }
    },
    {
      "cell_type": "code",
      "source": [
        "import scipy.stats\n",
        "import scipy.special\n",
        "import numpy as np\n",
        "import matplotlib.pyplot as plt\n",
        "from math import comb"
      ],
      "metadata": {
        "id": "SJebUUKHE4Er"
      },
      "execution_count": null,
      "outputs": []
    },
    {
      "cell_type": "code",
      "source": [
        "alpha = 1\n",
        "beta = 4\n",
        "n = 116\n",
        "x = 17\n",
        "\n",
        "thetas = np.linspace(0, 1, 1000)\n",
        "prior = scipy.stats.beta.pdf(thetas, alpha, beta)\n",
        "posterior = scipy.stats.beta.pdf(thetas, alpha + x, beta + n - x)\n",
        "norm_likelihood = scipy.stats.binom.pmf(x, n, thetas) / scipy.special.beta(x + 1, n-x+1) / comb(n,x)\n",
        "\n",
        "fig, ax = plt.subplots()\n",
        "ax.plot(thetas, prior, color='k', label='prior')\n",
        "ax.plot(thetas, posterior, color='g', label='posterior')\n",
        "ax.plot(thetas, norm_likelihood, color='r', label='normalized likelihood')\n",
        "ax.set_xlabel(r\"$\\theta$\", fontsize=12)\n",
        "ax.set_title(r\"Prior & Posterior distributions of $\\theta$ and likelihood of $X=17$\")\n",
        "plt.legend()\n",
        "plt.show()"
      ],
      "metadata": {
        "colab": {
          "base_uri": "https://localhost:8080/",
          "height": 476
        },
        "id": "jhZfZt9eEAoG",
        "outputId": "427b1070-87a7-46d0-dfae-6d66b09569d5"
      },
      "execution_count": null,
      "outputs": [
        {
          "output_type": "display_data",
          "data": {
            "text/plain": [
              "<Figure size 640x480 with 1 Axes>"
            ],
            "image/png": "[encoded data removed]"
          },
          "metadata": {}
        }
      ]
    },
    {
      "cell_type": "markdown",
      "source": [
        "#### 5. Find the posterior probability that θ < 0.1\n",
        "\n",
        "Posterior probability that θ < 0.1 is value of CDF of Beta distribution with $\\alpha=18, \\beta=103$ at 0.1"
      ],
      "metadata": {
        "id": "MBTDpWyuMa5F"
      }
    },
    {
      "cell_type": "code",
      "source": [
        "ans = scipy.stats.beta.cdf(0.1, alpha + x, beta + n - x)\n",
        "print(f\"the posterior probability that θ < 0.1 is {ans}\")"
      ],
      "metadata": {
        "colab": {
          "base_uri": "https://localhost:8080/"
        },
        "id": "_luhW0GZL2q-",
        "outputId": "ee032ca1-0aa5-4318-8474-b3f4b93addda"
      },
      "execution_count": null,
      "outputs": [
        {
          "output_type": "stream",
          "name": "stdout",
          "text": [
            "the posterior probability that θ < 0.1 is 0.053094376993042654\n"
          ]
        }
      ]
    },
    {
      "cell_type": "markdown",
      "source": [
        "#### 6. Find a central 95% posterior credible interval for θ.\n"
      ],
      "metadata": {
        "id": "McjTjsbFOC35"
      }
    },
    {
      "cell_type": "code",
      "source": [
        "left, right = scipy.stats.beta.ppf(0.025, alpha + x, beta + n - x), scipy.stats.beta.ppf(0.975, alpha + x, beta + n - x)\n",
        "print(f\"the central 95% posterior credible interval for θ is ({left}, {right})\")"
      ],
      "metadata": {
        "colab": {
          "base_uri": "https://localhost:8080/"
        },
        "id": "ZtQ4GiVHNe0N",
        "outputId": "5645c0f4-2ce8-448a-b001-3298f24a5c8b"
      },
      "execution_count": null,
      "outputs": [
        {
          "output_type": "stream",
          "name": "stdout",
          "text": [
            "the central 95% posterior credible interval for θ is (0.09138957252823, 0.21710689824337648)\n"
          ]
        }
      ]
    }
  ]
}